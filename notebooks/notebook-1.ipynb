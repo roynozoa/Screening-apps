{
 "metadata": {
  "language_info": {
   "codemirror_mode": {
    "name": "ipython",
    "version": 3
   },
   "file_extension": ".py",
   "mimetype": "text/x-python",
   "name": "python",
   "nbconvert_exporter": "python",
   "pygments_lexer": "ipython3",
   "version": "3.8.6"
  },
  "orig_nbformat": 2,
  "kernelspec": {
   "name": "python3",
   "display_name": "Python 3.8.6 64-bit"
  }
 },
 "nbformat": 4,
 "nbformat_minor": 2,
 "cells": [
  {
   "source": [
    "# Screening Apps - Machine Learning Developer\n",
    "\n",
    "Aplikasi screening vaksinasi COVID-19\n",
    "\n",
    "[![Open In Colab](https://colab.research.google.com/assets/colab-badge.svg)](linkgithub)\n",
    "\n",
    "## Deskripsi Projek\n",
    "- Aplikasi yang dapat menentukan apakah seseorang\n",
    "boleh mendapatkan vaksin COVID-19 atau belum\n",
    "berdasarkan data riwayat penyakit.\n",
    "- Aplikasi berbentuk web yang dapat diakses melalui\n",
    "internet.\n",
    "- Aplikasi ini menerapkan metode Machine Learning\n",
    "\n",
    "\n",
    "## Team Members and Roles\n",
    "- Muhammad Adisatriyo P :\n",
    "    - Project Management\n",
    "    - Build ML model\n",
    "- Surya Asmoro:\n",
    "    - Gather Data\n",
    "    - Cleaning Data\n",
    "    - Software Testing\n",
    "- Stefannov:\n",
    "    - Gather Data\n",
    "    - Cleaning Data\n",
    "    - Software Testing\n",
    "\n",
    "\n",
    "## Background Problem\n",
    "\n",
    "## Tools\n",
    "- Python3\n",
    "- Jupyter Notebook and Google Colab\n",
    "- Scikit-Learn\n",
    "- Google Docs\n",
    "- Github"
   ],
   "cell_type": "markdown",
   "metadata": {}
  },
  {
   "cell_type": "code",
   "execution_count": 1,
   "metadata": {},
   "outputs": [
    {
     "output_type": "stream",
     "name": "stderr",
     "text": [
      "C:\\Users\\Roy\\AppData\\Local\\Programs\\Python\\Python38\\lib\\site-packages\\numpy\\_distributor_init.py:30: UserWarning: loaded more than 1 DLL from .libs:\nC:\\Users\\Roy\\AppData\\Local\\Programs\\Python\\Python38\\lib\\site-packages\\numpy\\.libs\\libopenblas.NOIJJG62EMASZI6NYURL6JBKM4EVBGM7.gfortran-win_amd64.dll\nC:\\Users\\Roy\\AppData\\Local\\Programs\\Python\\Python38\\lib\\site-packages\\numpy\\.libs\\libopenblas.QVLO2T66WEPI7JZ63PS3HMOHFEY472BC.gfortran-win_amd64.dll\n  warnings.warn(\"loaded more than 1 DLL from .libs:\"\n"
     ]
    }
   ],
   "source": [
    "# import library\n",
    "import pandas as pd\n",
    "import numpy as np\n",
    "import matplotlib.pyplot as plt\n",
    "import seaborn as sns"
   ]
  },
  {
   "cell_type": "code",
   "execution_count": 2,
   "metadata": {},
   "outputs": [
    {
     "output_type": "execute_result",
     "data": {
      "text/plain": [
       "'1.2.4'"
      ]
     },
     "metadata": {},
     "execution_count": 2
    }
   ],
   "source": [
    "pd.__version__"
   ]
  },
  {
   "source": [
    "## Exploratory Data Analysis\n",
    "\n",
    "- Using our provided dataset (gathered based on articles)"
   ],
   "cell_type": "markdown",
   "metadata": {}
  },
  {
   "cell_type": "code",
   "execution_count": 3,
   "metadata": {},
   "outputs": [],
   "source": [
    "data_path = 'D:\\VSCODE\\Screening-apps\\data\\dataset.xls'"
   ]
  },
  {
   "cell_type": "code",
   "execution_count": 4,
   "metadata": {},
   "outputs": [],
   "source": [
    "data_df = pd.read_excel(data_path)"
   ]
  },
  {
   "cell_type": "code",
   "execution_count": 5,
   "metadata": {},
   "outputs": [
    {
     "output_type": "execute_result",
     "data": {
      "text/plain": [
       "             Individu  1  2  3  4  5  6  7  8  9  10  11  12  13  14  \\\n",
       "0        Surya Asmoro  0  0  0  0  0  0  0  0  0   0   0   0   0   0   \n",
       "1  Muhammad Adisatrio  0  0  0  0  0  0  0  0  0   0   0   0   0   0   \n",
       "2           Stefannov  0  0  0  0  0  0  0  0  0   0   0   0   0   0   \n",
       "3      Muhammad Yudhi  0  0  0  0  0  0  0  0  0   0   0   0   0   0   \n",
       "4       Muhammad Koku  0  1  0  0  0  0  1  0  0   0   0   0   0   0   \n",
       "\n",
       "   Prediction (Bisa di vaksin atau enggak)  \n",
       "0                                        1  \n",
       "1                                        1  \n",
       "2                                        1  \n",
       "3                                        1  \n",
       "4                                        0  "
      ],
      "text/html": "<div>\n<style scoped>\n    .dataframe tbody tr th:only-of-type {\n        vertical-align: middle;\n    }\n\n    .dataframe tbody tr th {\n        vertical-align: top;\n    }\n\n    .dataframe thead th {\n        text-align: right;\n    }\n</style>\n<table border=\"1\" class=\"dataframe\">\n  <thead>\n    <tr style=\"text-align: right;\">\n      <th></th>\n      <th>Individu</th>\n      <th>1</th>\n      <th>2</th>\n      <th>3</th>\n      <th>4</th>\n      <th>5</th>\n      <th>6</th>\n      <th>7</th>\n      <th>8</th>\n      <th>9</th>\n      <th>10</th>\n      <th>11</th>\n      <th>12</th>\n      <th>13</th>\n      <th>14</th>\n      <th>Prediction (Bisa di vaksin atau enggak)</th>\n    </tr>\n  </thead>\n  <tbody>\n    <tr>\n      <th>0</th>\n      <td>Surya Asmoro</td>\n      <td>0</td>\n      <td>0</td>\n      <td>0</td>\n      <td>0</td>\n      <td>0</td>\n      <td>0</td>\n      <td>0</td>\n      <td>0</td>\n      <td>0</td>\n      <td>0</td>\n      <td>0</td>\n      <td>0</td>\n      <td>0</td>\n      <td>0</td>\n      <td>1</td>\n    </tr>\n    <tr>\n      <th>1</th>\n      <td>Muhammad Adisatrio</td>\n      <td>0</td>\n      <td>0</td>\n      <td>0</td>\n      <td>0</td>\n      <td>0</td>\n      <td>0</td>\n      <td>0</td>\n      <td>0</td>\n      <td>0</td>\n      <td>0</td>\n      <td>0</td>\n      <td>0</td>\n      <td>0</td>\n      <td>0</td>\n      <td>1</td>\n    </tr>\n    <tr>\n      <th>2</th>\n      <td>Stefannov</td>\n      <td>0</td>\n      <td>0</td>\n      <td>0</td>\n      <td>0</td>\n      <td>0</td>\n      <td>0</td>\n      <td>0</td>\n      <td>0</td>\n      <td>0</td>\n      <td>0</td>\n      <td>0</td>\n      <td>0</td>\n      <td>0</td>\n      <td>0</td>\n      <td>1</td>\n    </tr>\n    <tr>\n      <th>3</th>\n      <td>Muhammad Yudhi</td>\n      <td>0</td>\n      <td>0</td>\n      <td>0</td>\n      <td>0</td>\n      <td>0</td>\n      <td>0</td>\n      <td>0</td>\n      <td>0</td>\n      <td>0</td>\n      <td>0</td>\n      <td>0</td>\n      <td>0</td>\n      <td>0</td>\n      <td>0</td>\n      <td>1</td>\n    </tr>\n    <tr>\n      <th>4</th>\n      <td>Muhammad Koku</td>\n      <td>0</td>\n      <td>1</td>\n      <td>0</td>\n      <td>0</td>\n      <td>0</td>\n      <td>0</td>\n      <td>1</td>\n      <td>0</td>\n      <td>0</td>\n      <td>0</td>\n      <td>0</td>\n      <td>0</td>\n      <td>0</td>\n      <td>0</td>\n      <td>0</td>\n    </tr>\n  </tbody>\n</table>\n</div>"
     },
     "metadata": {},
     "execution_count": 5
    }
   ],
   "source": [
    "data_df.head()"
   ]
  },
  {
   "cell_type": "code",
   "execution_count": 6,
   "metadata": {},
   "outputs": [
    {
     "output_type": "execute_result",
     "data": {
      "text/plain": [
       "                 name  Pernah Terpapar COVID/positif dalam 3 bulan  \\\n",
       "0        Surya Asmoro                                            0   \n",
       "1  Muhammad Adisatrio                                            0   \n",
       "2           Stefannov                                            0   \n",
       "3      Muhammad Yudhi                                            0   \n",
       "4       Muhammad Koku                                            0   \n",
       "\n",
       "   Berusia kurang dari 18 tahun  Ibu yang sedang mengandung  \\\n",
       "0                             0                           0   \n",
       "1                             0                           0   \n",
       "2                             0                           0   \n",
       "3                             0                           0   \n",
       "4                             1                           0   \n",
       "\n",
       "   Tekanan darah anda saat ini diatas 180/110 mmHg  Ibu yang sedang menyusui  \\\n",
       "0                                                0                         0   \n",
       "1                                                0                         0   \n",
       "2                                                0                         0   \n",
       "3                                                0                         0   \n",
       "4                                                0                         0   \n",
       "\n",
       "   Mengidap salah satu penyakit ini ( PPOK, Asma, Jantung, Gangguan Ginjal, penyakit hati)  \\\n",
       "0                                                  0                                         \n",
       "1                                                  0                                         \n",
       "2                                                  0                                         \n",
       "3                                                  0                                         \n",
       "4                                                  0                                         \n",
       "\n",
       "   Memiliki riwayat alergi terhadap vaksin  Sedang menjalani terapi kanker  \\\n",
       "0                                        0                               0   \n",
       "1                                        0                               0   \n",
       "2                                        0                               0   \n",
       "3                                        0                               0   \n",
       "4                                        1                               0   \n",
       "\n",
       "   Mengidap penyakit autoimun sistemik  \\\n",
       "0                                    0   \n",
       "1                                    0   \n",
       "2                                    0   \n",
       "3                                    0   \n",
       "4                                    0   \n",
       "\n",
       "   Mengidap gangguan pembekuan darah, defisiensi imun, atau penerima produk darah/transfusi  \\\n",
       "0                                                  0                                          \n",
       "1                                                  0                                          \n",
       "2                                                  0                                          \n",
       "3                                                  0                                          \n",
       "4                                                  0                                          \n",
       "\n",
       "   Mengidap penyakit epilepsi/ayan  \\\n",
       "0                                0   \n",
       "1                                0   \n",
       "2                                0   \n",
       "3                                0   \n",
       "4                                0   \n",
       "\n",
       "   Mendapat vaksin lain(selain COVID) selama 1 bulan terakhir  \\\n",
       "0                                                  0            \n",
       "1                                                  0            \n",
       "2                                                  0            \n",
       "3                                                  0            \n",
       "4                                                  0            \n",
       "\n",
       "   Mendiap HIV-AIDS  Berusia 60 tahun keatas  Prediction  \n",
       "0                 0                        0           1  \n",
       "1                 0                        0           1  \n",
       "2                 0                        0           1  \n",
       "3                 0                        0           1  \n",
       "4                 0                        0           0  "
      ],
      "text/html": "<div>\n<style scoped>\n    .dataframe tbody tr th:only-of-type {\n        vertical-align: middle;\n    }\n\n    .dataframe tbody tr th {\n        vertical-align: top;\n    }\n\n    .dataframe thead th {\n        text-align: right;\n    }\n</style>\n<table border=\"1\" class=\"dataframe\">\n  <thead>\n    <tr style=\"text-align: right;\">\n      <th></th>\n      <th>name</th>\n      <th>Pernah Terpapar COVID/positif dalam 3 bulan</th>\n      <th>Berusia kurang dari 18 tahun</th>\n      <th>Ibu yang sedang mengandung</th>\n      <th>Tekanan darah anda saat ini diatas 180/110 mmHg</th>\n      <th>Ibu yang sedang menyusui</th>\n      <th>Mengidap salah satu penyakit ini ( PPOK, Asma, Jantung, Gangguan Ginjal, penyakit hati)</th>\n      <th>Memiliki riwayat alergi terhadap vaksin</th>\n      <th>Sedang menjalani terapi kanker</th>\n      <th>Mengidap penyakit autoimun sistemik</th>\n      <th>Mengidap gangguan pembekuan darah, defisiensi imun, atau penerima produk darah/transfusi</th>\n      <th>Mengidap penyakit epilepsi/ayan</th>\n      <th>Mendapat vaksin lain(selain COVID) selama 1 bulan terakhir</th>\n      <th>Mendiap HIV-AIDS</th>\n      <th>Berusia 60 tahun keatas</th>\n      <th>Prediction</th>\n    </tr>\n  </thead>\n  <tbody>\n    <tr>\n      <th>0</th>\n      <td>Surya Asmoro</td>\n      <td>0</td>\n      <td>0</td>\n      <td>0</td>\n      <td>0</td>\n      <td>0</td>\n      <td>0</td>\n      <td>0</td>\n      <td>0</td>\n      <td>0</td>\n      <td>0</td>\n      <td>0</td>\n      <td>0</td>\n      <td>0</td>\n      <td>0</td>\n      <td>1</td>\n    </tr>\n    <tr>\n      <th>1</th>\n      <td>Muhammad Adisatrio</td>\n      <td>0</td>\n      <td>0</td>\n      <td>0</td>\n      <td>0</td>\n      <td>0</td>\n      <td>0</td>\n      <td>0</td>\n      <td>0</td>\n      <td>0</td>\n      <td>0</td>\n      <td>0</td>\n      <td>0</td>\n      <td>0</td>\n      <td>0</td>\n      <td>1</td>\n    </tr>\n    <tr>\n      <th>2</th>\n      <td>Stefannov</td>\n      <td>0</td>\n      <td>0</td>\n      <td>0</td>\n      <td>0</td>\n      <td>0</td>\n      <td>0</td>\n      <td>0</td>\n      <td>0</td>\n      <td>0</td>\n      <td>0</td>\n      <td>0</td>\n      <td>0</td>\n      <td>0</td>\n      <td>0</td>\n      <td>1</td>\n    </tr>\n    <tr>\n      <th>3</th>\n      <td>Muhammad Yudhi</td>\n      <td>0</td>\n      <td>0</td>\n      <td>0</td>\n      <td>0</td>\n      <td>0</td>\n      <td>0</td>\n      <td>0</td>\n      <td>0</td>\n      <td>0</td>\n      <td>0</td>\n      <td>0</td>\n      <td>0</td>\n      <td>0</td>\n      <td>0</td>\n      <td>1</td>\n    </tr>\n    <tr>\n      <th>4</th>\n      <td>Muhammad Koku</td>\n      <td>0</td>\n      <td>1</td>\n      <td>0</td>\n      <td>0</td>\n      <td>0</td>\n      <td>0</td>\n      <td>1</td>\n      <td>0</td>\n      <td>0</td>\n      <td>0</td>\n      <td>0</td>\n      <td>0</td>\n      <td>0</td>\n      <td>0</td>\n      <td>0</td>\n    </tr>\n  </tbody>\n</table>\n</div>"
     },
     "metadata": {},
     "execution_count": 6
    }
   ],
   "source": [
    "columns = [\n",
    "    'name', \n",
    "    'Pernah Terpapar COVID/positif dalam 3 bulan',\n",
    "    'Berusia kurang dari 18 tahun',\n",
    "    'Ibu yang sedang mengandung',\n",
    "    'Tekanan darah anda saat ini diatas 180/110 mmHg',\n",
    "    'Ibu yang sedang menyusui',\n",
    "    'Mengidap salah satu penyakit ini ( PPOK, Asma, Jantung, Gangguan Ginjal, penyakit hati)',\n",
    "    'Memiliki riwayat alergi terhadap vaksin',\n",
    "    'Sedang menjalani terapi kanker',\n",
    "    'Mengidap penyakit autoimun sistemik',\n",
    "    'Mengidap gangguan pembekuan darah, defisiensi imun, atau penerima produk darah/transfusi',\n",
    "    'Mengidap penyakit epilepsi/ayan',\n",
    "    'Mendapat vaksin lain(selain COVID) selama 1 bulan terakhir',\n",
    "    'Mendiap HIV-AIDS',\n",
    "    'Berusia 60 tahun keatas',\n",
    "    'Prediction']\n",
    "\n",
    "data_df.columns = columns\n",
    "data_df.head()"
   ]
  },
  {
   "source": [
    "## Pre-process data"
   ],
   "cell_type": "markdown",
   "metadata": {}
  },
  {
   "cell_type": "code",
   "execution_count": 7,
   "metadata": {},
   "outputs": [
    {
     "output_type": "execute_result",
     "data": {
      "text/plain": [
       "   Pernah Terpapar COVID/positif dalam 3 bulan  Berusia kurang dari 18 tahun  \\\n",
       "0                                            0                             0   \n",
       "1                                            0                             0   \n",
       "2                                            0                             0   \n",
       "3                                            0                             0   \n",
       "4                                            0                             1   \n",
       "\n",
       "   Ibu yang sedang mengandung  \\\n",
       "0                           0   \n",
       "1                           0   \n",
       "2                           0   \n",
       "3                           0   \n",
       "4                           0   \n",
       "\n",
       "   Tekanan darah anda saat ini diatas 180/110 mmHg  Ibu yang sedang menyusui  \\\n",
       "0                                                0                         0   \n",
       "1                                                0                         0   \n",
       "2                                                0                         0   \n",
       "3                                                0                         0   \n",
       "4                                                0                         0   \n",
       "\n",
       "   Mengidap salah satu penyakit ini ( PPOK, Asma, Jantung, Gangguan Ginjal, penyakit hati)  \\\n",
       "0                                                  0                                         \n",
       "1                                                  0                                         \n",
       "2                                                  0                                         \n",
       "3                                                  0                                         \n",
       "4                                                  0                                         \n",
       "\n",
       "   Memiliki riwayat alergi terhadap vaksin  Sedang menjalani terapi kanker  \\\n",
       "0                                        0                               0   \n",
       "1                                        0                               0   \n",
       "2                                        0                               0   \n",
       "3                                        0                               0   \n",
       "4                                        1                               0   \n",
       "\n",
       "   Mengidap penyakit autoimun sistemik  \\\n",
       "0                                    0   \n",
       "1                                    0   \n",
       "2                                    0   \n",
       "3                                    0   \n",
       "4                                    0   \n",
       "\n",
       "   Mengidap gangguan pembekuan darah, defisiensi imun, atau penerima produk darah/transfusi  \\\n",
       "0                                                  0                                          \n",
       "1                                                  0                                          \n",
       "2                                                  0                                          \n",
       "3                                                  0                                          \n",
       "4                                                  0                                          \n",
       "\n",
       "   Mengidap penyakit epilepsi/ayan  \\\n",
       "0                                0   \n",
       "1                                0   \n",
       "2                                0   \n",
       "3                                0   \n",
       "4                                0   \n",
       "\n",
       "   Mendapat vaksin lain(selain COVID) selama 1 bulan terakhir  \\\n",
       "0                                                  0            \n",
       "1                                                  0            \n",
       "2                                                  0            \n",
       "3                                                  0            \n",
       "4                                                  0            \n",
       "\n",
       "   Mendiap HIV-AIDS  Berusia 60 tahun keatas  Prediction  \n",
       "0                 0                        0           1  \n",
       "1                 0                        0           1  \n",
       "2                 0                        0           1  \n",
       "3                 0                        0           1  \n",
       "4                 0                        0           0  "
      ],
      "text/html": "<div>\n<style scoped>\n    .dataframe tbody tr th:only-of-type {\n        vertical-align: middle;\n    }\n\n    .dataframe tbody tr th {\n        vertical-align: top;\n    }\n\n    .dataframe thead th {\n        text-align: right;\n    }\n</style>\n<table border=\"1\" class=\"dataframe\">\n  <thead>\n    <tr style=\"text-align: right;\">\n      <th></th>\n      <th>Pernah Terpapar COVID/positif dalam 3 bulan</th>\n      <th>Berusia kurang dari 18 tahun</th>\n      <th>Ibu yang sedang mengandung</th>\n      <th>Tekanan darah anda saat ini diatas 180/110 mmHg</th>\n      <th>Ibu yang sedang menyusui</th>\n      <th>Mengidap salah satu penyakit ini ( PPOK, Asma, Jantung, Gangguan Ginjal, penyakit hati)</th>\n      <th>Memiliki riwayat alergi terhadap vaksin</th>\n      <th>Sedang menjalani terapi kanker</th>\n      <th>Mengidap penyakit autoimun sistemik</th>\n      <th>Mengidap gangguan pembekuan darah, defisiensi imun, atau penerima produk darah/transfusi</th>\n      <th>Mengidap penyakit epilepsi/ayan</th>\n      <th>Mendapat vaksin lain(selain COVID) selama 1 bulan terakhir</th>\n      <th>Mendiap HIV-AIDS</th>\n      <th>Berusia 60 tahun keatas</th>\n      <th>Prediction</th>\n    </tr>\n  </thead>\n  <tbody>\n    <tr>\n      <th>0</th>\n      <td>0</td>\n      <td>0</td>\n      <td>0</td>\n      <td>0</td>\n      <td>0</td>\n      <td>0</td>\n      <td>0</td>\n      <td>0</td>\n      <td>0</td>\n      <td>0</td>\n      <td>0</td>\n      <td>0</td>\n      <td>0</td>\n      <td>0</td>\n      <td>1</td>\n    </tr>\n    <tr>\n      <th>1</th>\n      <td>0</td>\n      <td>0</td>\n      <td>0</td>\n      <td>0</td>\n      <td>0</td>\n      <td>0</td>\n      <td>0</td>\n      <td>0</td>\n      <td>0</td>\n      <td>0</td>\n      <td>0</td>\n      <td>0</td>\n      <td>0</td>\n      <td>0</td>\n      <td>1</td>\n    </tr>\n    <tr>\n      <th>2</th>\n      <td>0</td>\n      <td>0</td>\n      <td>0</td>\n      <td>0</td>\n      <td>0</td>\n      <td>0</td>\n      <td>0</td>\n      <td>0</td>\n      <td>0</td>\n      <td>0</td>\n      <td>0</td>\n      <td>0</td>\n      <td>0</td>\n      <td>0</td>\n      <td>1</td>\n    </tr>\n    <tr>\n      <th>3</th>\n      <td>0</td>\n      <td>0</td>\n      <td>0</td>\n      <td>0</td>\n      <td>0</td>\n      <td>0</td>\n      <td>0</td>\n      <td>0</td>\n      <td>0</td>\n      <td>0</td>\n      <td>0</td>\n      <td>0</td>\n      <td>0</td>\n      <td>0</td>\n      <td>1</td>\n    </tr>\n    <tr>\n      <th>4</th>\n      <td>0</td>\n      <td>1</td>\n      <td>0</td>\n      <td>0</td>\n      <td>0</td>\n      <td>0</td>\n      <td>1</td>\n      <td>0</td>\n      <td>0</td>\n      <td>0</td>\n      <td>0</td>\n      <td>0</td>\n      <td>0</td>\n      <td>0</td>\n      <td>0</td>\n    </tr>\n  </tbody>\n</table>\n</div>"
     },
     "metadata": {},
     "execution_count": 7
    }
   ],
   "source": [
    "train_df = data_df.drop(labels=['name'], axis=1)\n",
    "train_df.head()"
   ]
  },
  {
   "cell_type": "code",
   "execution_count": 8,
   "metadata": {},
   "outputs": [],
   "source": [
    "X = train_df.iloc[:, 0:14].values\n",
    "y = train_df['Prediction'].values"
   ]
  },
  {
   "cell_type": "code",
   "execution_count": 9,
   "metadata": {},
   "outputs": [
    {
     "output_type": "execute_result",
     "data": {
      "text/plain": [
       "array([[0, 0, 0, ..., 0, 0, 0],\n",
       "       [0, 0, 0, ..., 0, 0, 0],\n",
       "       [0, 0, 0, ..., 0, 0, 0],\n",
       "       ...,\n",
       "       [0, 0, 0, ..., 0, 0, 0],\n",
       "       [0, 0, 0, ..., 0, 0, 1],\n",
       "       [0, 0, 0, ..., 0, 0, 0]], dtype=int64)"
      ]
     },
     "metadata": {},
     "execution_count": 9
    }
   ],
   "source": [
    "X"
   ]
  },
  {
   "cell_type": "code",
   "execution_count": 10,
   "metadata": {},
   "outputs": [
    {
     "output_type": "execute_result",
     "data": {
      "text/plain": [
       "array([1, 1, 1, 1, 0, 0, 0, 0, 0, 1, 0, 1, 1, 0, 0, 1, 0, 0, 1, 1, 0, 1,\n",
       "       0, 1, 1, 0, 0, 0, 0, 0, 0, 0, 1, 1, 1, 1, 1, 0, 1, 1, 1, 0, 1, 1,\n",
       "       0, 0, 1, 0, 1, 0, 0, 1, 0, 0, 1, 1, 1, 1, 1, 1, 0, 0, 0, 1, 0, 1,\n",
       "       0, 1, 1, 1, 1, 1, 0, 1, 0, 1, 0, 1, 1, 0, 1, 0, 1, 0, 0, 0, 1, 0,\n",
       "       0, 1, 1, 1, 1, 1, 0, 1, 1, 1, 1, 1, 1, 1, 1, 1, 1, 0, 0, 0, 0, 0,\n",
       "       1, 0, 1, 1, 0, 0, 1, 0, 0, 1, 1, 0, 1, 0, 1, 1, 0, 0, 0, 0, 0, 0,\n",
       "       0, 1, 1, 1, 1, 1, 0, 1, 1, 1, 0, 1, 1, 0, 0, 1, 0, 1, 0, 0, 1, 0,\n",
       "       0, 1, 1, 1, 1, 1, 1, 0, 0, 0, 1, 0, 1, 0, 1, 1, 1, 1, 1, 0, 1, 0,\n",
       "       1, 0, 1, 1, 0, 1, 0, 1, 0, 0, 0, 1, 0, 0, 1, 1, 1, 1, 1, 0, 1, 1,\n",
       "       1, 1, 1, 1, 1, 1, 1, 1, 0, 0, 0, 0, 0, 1, 0, 1, 1, 0, 0, 1, 0, 0,\n",
       "       1, 1, 0, 1, 0, 1, 1, 0, 0, 0, 0, 0, 0, 0, 1, 1, 1, 1, 1, 0, 1, 1,\n",
       "       1, 0, 1, 1, 0, 0, 1, 0, 1, 0, 0, 1, 0, 0, 1, 1, 1, 1, 1, 1, 0, 0,\n",
       "       0, 1, 0, 1, 0, 1, 1, 1, 1, 1, 0, 1, 0, 1, 0, 1, 1, 0, 1, 0, 1, 0,\n",
       "       0, 0, 1, 0, 0, 1, 1, 1, 1, 1, 0, 1, 1, 1, 1, 1, 1], dtype=int64)"
      ]
     },
     "metadata": {},
     "execution_count": 10
    }
   ],
   "source": [
    "y"
   ]
  },
  {
   "cell_type": "code",
   "execution_count": 11,
   "metadata": {},
   "outputs": [],
   "source": [
    "from sklearn.model_selection import train_test_split\n",
    "\n",
    "# split data\n",
    "X_train, X_test, y_train, y_test = train_test_split(X, y, test_size=0.2, stratify=y, random_state=42)"
   ]
  },
  {
   "source": [
    "## Build Machine Learning Model"
   ],
   "cell_type": "markdown",
   "metadata": {}
  },
  {
   "source": [
    "\n",
    "\n",
    "### Model - 1\n",
    "- Using Tree-Based Model in Machine Learning with Classification and Regression Tree (CART)\n",
    "    - Because our problem is a binary Classification\n",
    "    - Might suitable using CART"
   ],
   "cell_type": "markdown",
   "metadata": {}
  },
  {
   "cell_type": "code",
   "execution_count": 12,
   "metadata": {},
   "outputs": [],
   "source": [
    "# import library\n",
    "from sklearn.tree import DecisionTreeClassifier\n",
    "\n",
    "# model initialize\n",
    "dt = DecisionTreeClassifier(max_depth=2, random_state=42)"
   ]
  },
  {
   "cell_type": "code",
   "execution_count": 13,
   "metadata": {},
   "outputs": [
    {
     "output_type": "execute_result",
     "data": {
      "text/plain": [
       "0.9180327868852459"
      ]
     },
     "metadata": {},
     "execution_count": 13
    }
   ],
   "source": [
    "from sklearn.metrics import accuracy_score\n",
    "\n",
    "# fit training set\n",
    "dt.fit(X_train, y_train)\n",
    "\n",
    "# predict test set\n",
    "y_pred = dt.predict(X_test)\n",
    "\n",
    "# accuracy score\n",
    "accuracy_score(y_test, y_pred)"
   ]
  },
  {
   "cell_type": "code",
   "execution_count": 14,
   "metadata": {},
   "outputs": [],
   "source": [
    "# Import library\n",
    "from sklearn.model_selection import GridSearchCV\n",
    "\n",
    "## hyperparameter\n",
    "params_dt = {'max_depth':[1,2,3,4,6,8,10], 'min_samples_leaf':[0.0001, 0.001, 0.05, 0.1, 0.2], 'criterion':['gini', 'entropy']}\n"
   ]
  },
  {
   "cell_type": "code",
   "execution_count": 15,
   "metadata": {},
   "outputs": [
    {
     "output_type": "stream",
     "name": "stdout",
     "text": [
      "Best Parameters : {'criterion': 'gini', 'max_depth': 8, 'min_samples_leaf': 0.0001}\nBest Score : 0.9989732930209121\nBest Estimator : DecisionTreeClassifier(max_depth=8, min_samples_leaf=0.0001, random_state=42)\n"
     ]
    }
   ],
   "source": [
    "# performs GridSearchCV\n",
    "grid_dt = GridSearchCV(estimator=dt, param_grid=params_dt, scoring='roc_auc', cv=5, n_jobs=1)\n",
    "\n",
    "# fit data\n",
    "grid_dt.fit(X_train, y_train)\n",
    "\n",
    "print(f'Best Parameters : {grid_dt.best_params_}')\n",
    "print(f'Best Score : {grid_dt.best_score_}')\n",
    "print(f'Best Estimator : {grid_dt.best_estimator_}')"
   ]
  },
  {
   "source": [
    "## Save Model"
   ],
   "cell_type": "markdown",
   "metadata": {}
  },
  {
   "cell_type": "code",
   "execution_count": 16,
   "metadata": {},
   "outputs": [
    {
     "output_type": "execute_result",
     "data": {
      "text/plain": [
       "['decisiontreeclf.pkl']"
      ]
     },
     "metadata": {},
     "execution_count": 16
    }
   ],
   "source": [
    "import joblib\n",
    "joblib.dump(grid_dt.best_estimator_, 'decisiontreeclf.pkl')"
   ]
  },
  {
   "source": [
    "### Model - 2 "
   ],
   "cell_type": "markdown",
   "metadata": {}
  }
 ]
}